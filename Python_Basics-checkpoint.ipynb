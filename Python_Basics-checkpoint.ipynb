{
 "cells": [
  {
   "cell_type": "code",
   "execution_count": 1,
   "id": "97078cbe",
   "metadata": {},
   "outputs": [
    {
     "name": "stdout",
     "output_type": "stream",
     "text": [
      "Canada\n"
     ]
    }
   ],
   "source": [
    "print(\"Canada\")"
   ]
  },
  {
   "cell_type": "code",
   "execution_count": 2,
   "id": "c45bbe46",
   "metadata": {},
   "outputs": [
    {
     "data": {
      "text/plain": [
       "40"
      ]
     },
     "execution_count": 2,
     "metadata": {},
     "output_type": "execute_result"
    }
   ],
   "source": [
    "10+30"
   ]
  },
  {
   "cell_type": "code",
   "execution_count": 3,
   "id": "665519ad",
   "metadata": {},
   "outputs": [
    {
     "name": "stdout",
     "output_type": "stream",
     "text": [
      "5\n",
      "<class 'int'>\n"
     ]
    }
   ],
   "source": [
    "a = 5\n",
    "print(a)\n",
    "print(type(a))"
   ]
  },
  {
   "cell_type": "code",
   "execution_count": 4,
   "id": "05beb105",
   "metadata": {},
   "outputs": [
    {
     "name": "stdout",
     "output_type": "stream",
     "text": [
      "Enter value of a10\n"
     ]
    }
   ],
   "source": [
    "b = int(input(\"Enter value of a\"))"
   ]
  },
  {
   "cell_type": "code",
   "execution_count": 6,
   "id": "ee110aea",
   "metadata": {},
   "outputs": [
    {
     "name": "stdout",
     "output_type": "stream",
     "text": [
      "addition 15\n"
     ]
    }
   ],
   "source": [
    "print(\"addition\",(a+10))"
   ]
  },
  {
   "cell_type": "code",
   "execution_count": 7,
   "id": "768874f2",
   "metadata": {},
   "outputs": [],
   "source": [
    "#Data types\n",
    "X = 5"
   ]
  },
  {
   "cell_type": "code",
   "execution_count": 8,
   "id": "5365eb04",
   "metadata": {},
   "outputs": [
    {
     "name": "stdout",
     "output_type": "stream",
     "text": [
      "<class 'int'>\n"
     ]
    }
   ],
   "source": [
    "print(type(X))"
   ]
  },
  {
   "cell_type": "code",
   "execution_count": 17,
   "id": "eb920d51",
   "metadata": {},
   "outputs": [
    {
     "name": "stdout",
     "output_type": "stream",
     "text": [
      "<class 'bool'>\n"
     ]
    }
   ],
   "source": [
    "X = False\n",
    "print(type(X))"
   ]
  },
  {
   "cell_type": "code",
   "execution_count": 72,
   "id": "62ac7eb9",
   "metadata": {},
   "outputs": [
    {
     "name": "stdout",
     "output_type": "stream",
     "text": [
      "['Dixita', 2021, 'Canada', 165]\n",
      "2021\n",
      "165\n",
      "[2021, 'Canada']\n",
      "['Nissan Rogue', 165, 'Canada', 2021, 'Dixita']\n"
     ]
    },
    {
     "data": {
      "text/plain": [
       "5"
      ]
     },
     "execution_count": 72,
     "metadata": {},
     "output_type": "execute_result"
    }
   ],
   "source": [
    "# Objects\n",
    "# List - mutable(you can change the value once they are are assigned)\n",
    "\n",
    "L1 = [\"Dixita\",2021,\"Canada\",165]\n",
    "print(L1)\n",
    "# Extract value from List\n",
    "print(L1[1])\n",
    "# Extract negative value from List\n",
    "print(L1[-1])\n",
    "# Slice function to get specific values from List(show value between 1 to 3 but exclude last value)\n",
    "print(L1[1:3])\n",
    "# Add value to List using Append function\n",
    "L1.append(\"Nissan Rogue\")\n",
    "L1\n",
    "# Print elements of List in reverse order using Reverse function\n",
    "L1.reverse()\n",
    "print(L1)\n",
    "len(L1)"
   ]
  },
  {
   "cell_type": "code",
   "execution_count": 19,
   "id": "d86613d8",
   "metadata": {},
   "outputs": [
    {
     "data": {
      "text/plain": [
       "list"
      ]
     },
     "execution_count": 19,
     "metadata": {},
     "output_type": "execute_result"
    }
   ],
   "source": [
    "type(L1)"
   ]
  },
  {
   "cell_type": "code",
   "execution_count": 20,
   "id": "2f1a0fec",
   "metadata": {},
   "outputs": [
    {
     "data": {
      "text/plain": [
       "[1, 2, 3, 4, 5]"
      ]
     },
     "execution_count": 20,
     "metadata": {},
     "output_type": "execute_result"
    }
   ],
   "source": [
    "L2 = [1,2,3,4,5]\n",
    "L2"
   ]
  },
  {
   "cell_type": "code",
   "execution_count": 21,
   "id": "f2fcee6a",
   "metadata": {},
   "outputs": [
    {
     "data": {
      "text/plain": [
       "list"
      ]
     },
     "execution_count": 21,
     "metadata": {},
     "output_type": "execute_result"
    }
   ],
   "source": [
    "type(L2)"
   ]
  },
  {
   "cell_type": "code",
   "execution_count": 80,
   "id": "f73f1454",
   "metadata": {},
   "outputs": [
    {
     "name": "stdout",
     "output_type": "stream",
     "text": [
      "('AUDI', 'BMW', 'FORD', 'TOYOTA')\n",
      "<class 'tuple'>\n",
      "BMW\n",
      "TOYOTA\n",
      "('BMW', 'FORD')\n"
     ]
    }
   ],
   "source": [
    "#Tuple - immutable(you can't change it's value once they are assigned)\n",
    "\n",
    "tup = (\"AUDI\",\"BMW\",\"FORD\",\"TOYOTA\")\n",
    "print(tup)\n",
    "print(type(tup))\n",
    "# Extract value from Tuple\n",
    "print(tup[1])\n",
    "# Extract negative value from Tuple\n",
    "print(tup[-1])\n",
    "# Slice function to get specific values from Tuple(show value between 1 to 3 but exclude last value)\n",
    "print(tup[1:3])\n"
   ]
  },
  {
   "cell_type": "code",
   "execution_count": 61,
   "id": "cb882f28",
   "metadata": {},
   "outputs": [
    {
     "name": "stdout",
     "output_type": "stream",
     "text": [
      "{'Name': 'Dixita', 'Age': 28, 'Profession': 'Developer'}\n",
      "<class 'dict'>\n",
      "28\n",
      "{'Name': 'Dixita', 'Age': 28, 'Profession': 'SW Developer'}\n"
     ]
    }
   ],
   "source": [
    "# Dictionary - mutable(key-value pair)\n",
    "\n",
    "employee = {\"Name\":\"Dixita\",\"Age\":28,\"Profession\":\"Developer\"}\n",
    "print(employee)\n",
    "print(type(employee))\n",
    "\n",
    "# Get value from dictionary\n",
    "print(employee.get(\"Age\"))\n",
    "\n",
    "# Update values\n",
    "employee.update({\"Profession\" : \"SW Developer\"})\n",
    "print(employee)"
   ]
  },
  {
   "cell_type": "code",
   "execution_count": 32,
   "id": "9e91c795",
   "metadata": {},
   "outputs": [
    {
     "name": "stdout",
     "output_type": "stream",
     "text": [
      "{'Apr', 'Jan', 'Mar', 'Feb'}\n"
     ]
    }
   ],
   "source": [
    "# Set - contain unique values only\n",
    "\n",
    "month = {\"Jan\",\"Feb\",\"Mar\",\"Apr\",\"Mar\"}\n",
    "print(month)"
   ]
  },
  {
   "cell_type": "code",
   "execution_count": 31,
   "id": "b7ff8d28",
   "metadata": {},
   "outputs": [
    {
     "name": "stdout",
     "output_type": "stream",
     "text": [
      "<class 'set'>\n"
     ]
    }
   ],
   "source": [
    "print(type(month))"
   ]
  },
  {
   "cell_type": "code",
   "execution_count": 62,
   "id": "d5a80961",
   "metadata": {},
   "outputs": [
    {
     "name": "stdout",
     "output_type": "stream",
     "text": [
      "a is greater\n"
     ]
    }
   ],
   "source": [
    "# If-else\n",
    "\n",
    "a = 500\n",
    "b = 350\n",
    "\n",
    "if b>a :\n",
    "    print(\"b is greater\")\n",
    "elif a==b :\n",
    "    print(\"both are equal\")\n",
    "else :\n",
    "    print(\"a is greater\")"
   ]
  },
  {
   "cell_type": "code",
   "execution_count": 68,
   "id": "381f532c",
   "metadata": {},
   "outputs": [
    {
     "name": "stdout",
     "output_type": "stream",
     "text": [
      "1\n",
      "2\n",
      "3\n",
      "5\n",
      "6\n",
      "7\n",
      "8\n"
     ]
    }
   ],
   "source": [
    "# While \n",
    "\n",
    "i = 0\n",
    "while i<8:\n",
    "        i=i+1\n",
    "        if i==4:\n",
    "            continue\n",
    "        print(i)"
   ]
  },
  {
   "cell_type": "code",
   "execution_count": 79,
   "id": "84d6e09d",
   "metadata": {},
   "outputs": [
    {
     "name": "stdout",
     "output_type": "stream",
     "text": [
      "AUDI\n",
      "BMW\n",
      "FORD\n",
      "TOYOTA\n",
      "BMW\n"
     ]
    }
   ],
   "source": [
    "# For\n",
    "\n",
    "tup = (\"AUDI\",\"BMW\",\"FORD\",\"TOYOTA\",\"BMW\")\n",
    "for p in tup:\n",
    "    print(p)"
   ]
  },
  {
   "cell_type": "code",
   "execution_count": null,
   "id": "a59499a9",
   "metadata": {},
   "outputs": [],
   "source": []
  }
 ],
 "metadata": {
  "kernelspec": {
   "display_name": "Python 3 (ipykernel)",
   "language": "python",
   "name": "python3"
  },
  "language_info": {
   "codemirror_mode": {
    "name": "ipython",
    "version": 3
   },
   "file_extension": ".py",
   "mimetype": "text/x-python",
   "name": "python",
   "nbconvert_exporter": "python",
   "pygments_lexer": "ipython3",
   "version": "3.9.13"
  }
 },
 "nbformat": 4,
 "nbformat_minor": 5
}
